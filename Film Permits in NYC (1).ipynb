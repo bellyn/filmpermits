{
 "cells": [
  {
   "cell_type": "markdown",
   "metadata": {},
   "source": [
    "<h3> Film Permits in NYC</h3>"
   ]
  },
  {
   "cell_type": "markdown",
   "metadata": {},
   "source": [
    "I am interested in looking at the most-filmed neighborhoods in NYC. To do this, I will be looking at the film permits issued between 2012 - 2017."
   ]
  },
  {
   "cell_type": "markdown",
   "metadata": {},
   "source": [
    "<h3>The Preliminaries</h3>"
   ]
  },
  {
   "cell_type": "code",
   "execution_count": 2,
   "metadata": {},
   "outputs": [
    {
     "name": "stdout",
     "output_type": "stream",
     "text": [
      "<class 'pandas.core.frame.DataFrame'>\n",
      "RangeIndex: 47324 entries, 0 to 47323\n",
      "Data columns (total 14 columns):\n",
      "EventID              47324 non-null int64\n",
      "EventType            47324 non-null object\n",
      "StartDateTime        47324 non-null object\n",
      "EndDateTime          47324 non-null object\n",
      "EnteredOn            47324 non-null object\n",
      "EventAgency          47324 non-null object\n",
      "ParkingHeld          47324 non-null object\n",
      "Borough              47324 non-null object\n",
      "CommunityBoard(s)    47313 non-null object\n",
      "PolicePrecinct(s)    47313 non-null object\n",
      "Category             47324 non-null object\n",
      "SubCategoryName      47324 non-null object\n",
      "Country              47324 non-null object\n",
      "ZipCode(s)           47313 non-null object\n",
      "dtypes: int64(1), object(13)\n",
      "memory usage: 5.1+ MB\n"
     ]
    }
   ],
   "source": [
    "import pandas as pd\n",
    "import numpy as np\n",
    "df = pd.read_csv(\"Film_Permits.csv\")\n",
    "df.info()"
   ]
  },
  {
   "cell_type": "markdown",
   "metadata": {},
   "source": [
    "<h3>Data Cleaning</h3> \n",
    "In this step I am getting rid of the columns unnecessary for this analysis, such as EventAgency, Country, CommunityBoard, PolicePrecinct"
   ]
  },
  {
   "cell_type": "code",
   "execution_count": 2,
   "metadata": {},
   "outputs": [],
   "source": [
    "df = df.sort_values(df.columns[0], ascending=\"True\") ## sort by EventId\n",
    "df = df.reset_index(drop=True)\n",
    "df = df.drop([\"EventAgency\",\"CommunityBoard(s)\",\"PolicePrecinct(s)\",\"Country\"], axis=1) ## drop the unused categories\n"
   ]
  },
  {
   "cell_type": "code",
   "execution_count": 11,
   "metadata": {},
   "outputs": [
    {
     "data": {
      "text/html": [
       "<div>\n",
       "<style scoped>\n",
       "    .dataframe tbody tr th:only-of-type {\n",
       "        vertical-align: middle;\n",
       "    }\n",
       "\n",
       "    .dataframe tbody tr th {\n",
       "        vertical-align: top;\n",
       "    }\n",
       "\n",
       "    .dataframe thead th {\n",
       "        text-align: right;\n",
       "    }\n",
       "</style>\n",
       "<table border=\"1\" class=\"dataframe\">\n",
       "  <thead>\n",
       "    <tr style=\"text-align: right;\">\n",
       "      <th></th>\n",
       "      <th>id</th>\n",
       "      <th>event</th>\n",
       "      <th>start</th>\n",
       "      <th>end</th>\n",
       "      <th>enteredon</th>\n",
       "      <th>parkingheld</th>\n",
       "      <th>borough</th>\n",
       "      <th>category</th>\n",
       "      <th>subcategory</th>\n",
       "      <th>zipcode</th>\n",
       "    </tr>\n",
       "  </thead>\n",
       "  <tbody>\n",
       "    <tr>\n",
       "      <th>0</th>\n",
       "      <td>42069</td>\n",
       "      <td>Theater Load in and Load Outs</td>\n",
       "      <td>01/02/2012 07:00:00 AM</td>\n",
       "      <td>01/27/2012 10:00:00 PM</td>\n",
       "      <td>12/07/2011 04:38:54 PM</td>\n",
       "      <td>WEST   44 STREET between 7 AVENUE and 8 AVENUE</td>\n",
       "      <td>Manhattan</td>\n",
       "      <td>Theater</td>\n",
       "      <td>Theater</td>\n",
       "      <td>10036</td>\n",
       "    </tr>\n",
       "    <tr>\n",
       "      <th>1</th>\n",
       "      <td>42287</td>\n",
       "      <td>Shooting Permit</td>\n",
       "      <td>01/05/2012 01:00:00 PM</td>\n",
       "      <td>01/05/2012 11:30:00 PM</td>\n",
       "      <td>12/09/2011 02:08:35 PM</td>\n",
       "      <td>WEST   65 STREET between BROADWAY and WEST END...</td>\n",
       "      <td>Manhattan</td>\n",
       "      <td>Theater</td>\n",
       "      <td>Theater</td>\n",
       "      <td>10023</td>\n",
       "    </tr>\n",
       "    <tr>\n",
       "      <th>2</th>\n",
       "      <td>42581</td>\n",
       "      <td>Shooting Permit</td>\n",
       "      <td>01/03/2012 10:00:00 AM</td>\n",
       "      <td>01/03/2012 09:00:00 PM</td>\n",
       "      <td>12/14/2011 09:56:47 AM</td>\n",
       "      <td>46 ROAD between 5 STREET and VERNON BOULEVARD,...</td>\n",
       "      <td>Queens</td>\n",
       "      <td>Television</td>\n",
       "      <td>Episodic series</td>\n",
       "      <td>11101</td>\n",
       "    </tr>\n",
       "    <tr>\n",
       "      <th>3</th>\n",
       "      <td>42727</td>\n",
       "      <td>Shooting Permit</td>\n",
       "      <td>01/03/2012 08:00:00 AM</td>\n",
       "      <td>01/03/2012 10:00:00 PM</td>\n",
       "      <td>12/15/2011 01:27:48 PM</td>\n",
       "      <td>22ND STREET between QUEENS PLAZA SOUTH and 43R...</td>\n",
       "      <td>Queens</td>\n",
       "      <td>Television</td>\n",
       "      <td>Episodic series</td>\n",
       "      <td>11101</td>\n",
       "    </tr>\n",
       "    <tr>\n",
       "      <th>4</th>\n",
       "      <td>42737</td>\n",
       "      <td>Theater Load in and Load Outs</td>\n",
       "      <td>01/02/2012 06:00:00 AM</td>\n",
       "      <td>01/18/2012 08:00:00 PM</td>\n",
       "      <td>12/15/2011 02:06:52 PM</td>\n",
       "      <td>WEST   46 STREET between 7 AVENUE and 8 AVENUE</td>\n",
       "      <td>Manhattan</td>\n",
       "      <td>Theater</td>\n",
       "      <td>Theater</td>\n",
       "      <td>10036</td>\n",
       "    </tr>\n",
       "  </tbody>\n",
       "</table>\n",
       "</div>"
      ],
      "text/plain": [
       "      id                          event                   start  \\\n",
       "0  42069  Theater Load in and Load Outs  01/02/2012 07:00:00 AM   \n",
       "1  42287                Shooting Permit  01/05/2012 01:00:00 PM   \n",
       "2  42581                Shooting Permit  01/03/2012 10:00:00 AM   \n",
       "3  42727                Shooting Permit  01/03/2012 08:00:00 AM   \n",
       "4  42737  Theater Load in and Load Outs  01/02/2012 06:00:00 AM   \n",
       "\n",
       "                      end               enteredon  \\\n",
       "0  01/27/2012 10:00:00 PM  12/07/2011 04:38:54 PM   \n",
       "1  01/05/2012 11:30:00 PM  12/09/2011 02:08:35 PM   \n",
       "2  01/03/2012 09:00:00 PM  12/14/2011 09:56:47 AM   \n",
       "3  01/03/2012 10:00:00 PM  12/15/2011 01:27:48 PM   \n",
       "4  01/18/2012 08:00:00 PM  12/15/2011 02:06:52 PM   \n",
       "\n",
       "                                         parkingheld    borough    category  \\\n",
       "0     WEST   44 STREET between 7 AVENUE and 8 AVENUE  Manhattan     Theater   \n",
       "1  WEST   65 STREET between BROADWAY and WEST END...  Manhattan     Theater   \n",
       "2  46 ROAD between 5 STREET and VERNON BOULEVARD,...     Queens  Television   \n",
       "3  22ND STREET between QUEENS PLAZA SOUTH and 43R...     Queens  Television   \n",
       "4     WEST   46 STREET between 7 AVENUE and 8 AVENUE  Manhattan     Theater   \n",
       "\n",
       "       subcategory zipcode  \n",
       "0          Theater   10036  \n",
       "1          Theater   10023  \n",
       "2  Episodic series   11101  \n",
       "3  Episodic series   11101  \n",
       "4          Theater   10036  "
      ]
     },
     "execution_count": 11,
     "metadata": {},
     "output_type": "execute_result"
    }
   ],
   "source": [
    "df.columns = ['id','event','start','end','enteredon','parkingheld','borough','category','subcategory','zipcode']\n",
    "df.head(5)"
   ]
  },
  {
   "cell_type": "code",
   "execution_count": 4,
   "metadata": {
    "scrolled": true
   },
   "outputs": [],
   "source": [
    "#df1 = df.assign(**{'zipcode':df['zipcode'].str.split(',')})\n"
   ]
  },
  {
   "cell_type": "code",
   "execution_count": 5,
   "metadata": {},
   "outputs": [],
   "source": [
    "#df1.zipcode = df.zipcode.astype(int)\n",
    "#df1.dtypes"
   ]
  },
  {
   "cell_type": "code",
   "execution_count": 7,
   "metadata": {},
   "outputs": [
    {
     "ename": "TypeError",
     "evalue": "object of type 'float' has no len()",
     "output_type": "error",
     "traceback": [
      "\u001b[0;31m---------------------------------------------------------------------------\u001b[0m",
      "\u001b[0;31mTypeError\u001b[0m                                 Traceback (most recent call last)",
      "\u001b[0;32m<ipython-input-7-4685c7bd3aa0>\u001b[0m in \u001b[0;36m<module>\u001b[0;34m()\u001b[0m\n\u001b[1;32m      1\u001b[0m \u001b[0;31m#df.zipcode = map(int, df.zipcode)\u001b[0m\u001b[0;34m\u001b[0m\u001b[0;34m\u001b[0m\u001b[0m\n\u001b[0;32m----> 2\u001b[0;31m \u001b[0mdf2\u001b[0m \u001b[0;34m=\u001b[0m \u001b[0mpd\u001b[0m\u001b[0;34m.\u001b[0m\u001b[0mDataFrame\u001b[0m\u001b[0;34m(\u001b[0m\u001b[0mdf\u001b[0m\u001b[0;34m.\u001b[0m\u001b[0mzipcode\u001b[0m\u001b[0;34m.\u001b[0m\u001b[0mstr\u001b[0m\u001b[0;34m.\u001b[0m\u001b[0msplit\u001b[0m\u001b[0;34m(\u001b[0m\u001b[0;34m','\u001b[0m\u001b[0;34m)\u001b[0m\u001b[0;34m.\u001b[0m\u001b[0mtolist\u001b[0m\u001b[0;34m(\u001b[0m\u001b[0;34m)\u001b[0m\u001b[0;34m)\u001b[0m \u001b[0;31m# split by comma and create new rows\u001b[0m\u001b[0;34m\u001b[0m\u001b[0m\n\u001b[0m\u001b[1;32m      3\u001b[0m \u001b[0mdf2\u001b[0m \u001b[0;34m=\u001b[0m \u001b[0mdf2\u001b[0m\u001b[0;34m.\u001b[0m\u001b[0mreset_index\u001b[0m\u001b[0;34m(\u001b[0m\u001b[0;34m)\u001b[0m\u001b[0;34m[\u001b[0m\u001b[0;34m[\u001b[0m\u001b[0;36m0\u001b[0m\u001b[0;34m,\u001b[0m \u001b[0;34m'id'\u001b[0m\u001b[0;34m]\u001b[0m\u001b[0;34m]\u001b[0m \u001b[0;31m# reset index and remove invalid row\u001b[0m\u001b[0;34m\u001b[0m\u001b[0m\n\u001b[1;32m      4\u001b[0m \u001b[0;31m#df2.columns = ['zipcode', 'id'] # rename columns\u001b[0m\u001b[0;34m\u001b[0m\u001b[0;34m\u001b[0m\u001b[0m\n\u001b[1;32m      5\u001b[0m \u001b[0;31m#df2 = df2[['id', 'zipcode']] # reorder columns to match df1\u001b[0m\u001b[0;34m\u001b[0m\u001b[0;34m\u001b[0m\u001b[0m\n",
      "\u001b[0;32m~/anaconda3/lib/python3.6/site-packages/pandas/core/frame.py\u001b[0m in \u001b[0;36m__init__\u001b[0;34m(self, data, index, columns, dtype, copy)\u001b[0m\n\u001b[1;32m    367\u001b[0m                     \u001b[0;32mif\u001b[0m \u001b[0mis_named_tuple\u001b[0m\u001b[0;34m(\u001b[0m\u001b[0mdata\u001b[0m\u001b[0;34m[\u001b[0m\u001b[0;36m0\u001b[0m\u001b[0;34m]\u001b[0m\u001b[0;34m)\u001b[0m \u001b[0;32mand\u001b[0m \u001b[0mcolumns\u001b[0m \u001b[0;32mis\u001b[0m \u001b[0;32mNone\u001b[0m\u001b[0;34m:\u001b[0m\u001b[0;34m\u001b[0m\u001b[0m\n\u001b[1;32m    368\u001b[0m                         \u001b[0mcolumns\u001b[0m \u001b[0;34m=\u001b[0m \u001b[0mdata\u001b[0m\u001b[0;34m[\u001b[0m\u001b[0;36m0\u001b[0m\u001b[0;34m]\u001b[0m\u001b[0;34m.\u001b[0m\u001b[0m_fields\u001b[0m\u001b[0;34m\u001b[0m\u001b[0m\n\u001b[0;32m--> 369\u001b[0;31m                     \u001b[0marrays\u001b[0m\u001b[0;34m,\u001b[0m \u001b[0mcolumns\u001b[0m \u001b[0;34m=\u001b[0m \u001b[0m_to_arrays\u001b[0m\u001b[0;34m(\u001b[0m\u001b[0mdata\u001b[0m\u001b[0;34m,\u001b[0m \u001b[0mcolumns\u001b[0m\u001b[0;34m,\u001b[0m \u001b[0mdtype\u001b[0m\u001b[0;34m=\u001b[0m\u001b[0mdtype\u001b[0m\u001b[0;34m)\u001b[0m\u001b[0;34m\u001b[0m\u001b[0m\n\u001b[0m\u001b[1;32m    370\u001b[0m                     \u001b[0mcolumns\u001b[0m \u001b[0;34m=\u001b[0m \u001b[0m_ensure_index\u001b[0m\u001b[0;34m(\u001b[0m\u001b[0mcolumns\u001b[0m\u001b[0;34m)\u001b[0m\u001b[0;34m\u001b[0m\u001b[0m\n\u001b[1;32m    371\u001b[0m \u001b[0;34m\u001b[0m\u001b[0m\n",
      "\u001b[0;32m~/anaconda3/lib/python3.6/site-packages/pandas/core/frame.py\u001b[0m in \u001b[0;36m_to_arrays\u001b[0;34m(data, columns, coerce_float, dtype)\u001b[0m\n\u001b[1;32m   6282\u001b[0m     \u001b[0;32mif\u001b[0m \u001b[0misinstance\u001b[0m\u001b[0;34m(\u001b[0m\u001b[0mdata\u001b[0m\u001b[0;34m[\u001b[0m\u001b[0;36m0\u001b[0m\u001b[0;34m]\u001b[0m\u001b[0;34m,\u001b[0m \u001b[0;34m(\u001b[0m\u001b[0mlist\u001b[0m\u001b[0;34m,\u001b[0m \u001b[0mtuple\u001b[0m\u001b[0;34m)\u001b[0m\u001b[0;34m)\u001b[0m\u001b[0;34m:\u001b[0m\u001b[0;34m\u001b[0m\u001b[0m\n\u001b[1;32m   6283\u001b[0m         return _list_to_arrays(data, columns, coerce_float=coerce_float,\n\u001b[0;32m-> 6284\u001b[0;31m                                dtype=dtype)\n\u001b[0m\u001b[1;32m   6285\u001b[0m     \u001b[0;32melif\u001b[0m \u001b[0misinstance\u001b[0m\u001b[0;34m(\u001b[0m\u001b[0mdata\u001b[0m\u001b[0;34m[\u001b[0m\u001b[0;36m0\u001b[0m\u001b[0;34m]\u001b[0m\u001b[0;34m,\u001b[0m \u001b[0mcollections\u001b[0m\u001b[0;34m.\u001b[0m\u001b[0mMapping\u001b[0m\u001b[0;34m)\u001b[0m\u001b[0;34m:\u001b[0m\u001b[0;34m\u001b[0m\u001b[0m\n\u001b[1;32m   6286\u001b[0m         return _list_of_dict_to_arrays(data, columns,\n",
      "\u001b[0;32m~/anaconda3/lib/python3.6/site-packages/pandas/core/frame.py\u001b[0m in \u001b[0;36m_list_to_arrays\u001b[0;34m(data, columns, coerce_float, dtype)\u001b[0m\n\u001b[1;32m   6359\u001b[0m     \u001b[0;32melse\u001b[0m\u001b[0;34m:\u001b[0m\u001b[0;34m\u001b[0m\u001b[0m\n\u001b[1;32m   6360\u001b[0m         \u001b[0;31m# list of lists\u001b[0m\u001b[0;34m\u001b[0m\u001b[0;34m\u001b[0m\u001b[0m\n\u001b[0;32m-> 6361\u001b[0;31m         \u001b[0mcontent\u001b[0m \u001b[0;34m=\u001b[0m \u001b[0mlist\u001b[0m\u001b[0;34m(\u001b[0m\u001b[0mlib\u001b[0m\u001b[0;34m.\u001b[0m\u001b[0mto_object_array\u001b[0m\u001b[0;34m(\u001b[0m\u001b[0mdata\u001b[0m\u001b[0;34m)\u001b[0m\u001b[0;34m.\u001b[0m\u001b[0mT\u001b[0m\u001b[0;34m)\u001b[0m\u001b[0;34m\u001b[0m\u001b[0m\n\u001b[0m\u001b[1;32m   6362\u001b[0m     return _convert_object_array(content, columns, dtype=dtype,\n\u001b[1;32m   6363\u001b[0m                                  coerce_float=coerce_float)\n",
      "\u001b[0;32mpandas/_libs/src/inference.pyx\u001b[0m in \u001b[0;36mpandas._libs.lib.to_object_array\u001b[0;34m()\u001b[0m\n",
      "\u001b[0;31mTypeError\u001b[0m: object of type 'float' has no len()"
     ]
    }
   ],
   "source": [
    "#df.zipcode = map(int, df.zipcode)\n",
    "df2 = pd.DataFrame(df.zipcode.str.split(',').tolist()) # split by comma and create new rows\n",
    "df2 = df2.reset_index()[[0, 'id']] # reset index and remove invalid row \n",
    "#df2.columns = ['zipcode', 'id'] # rename columns\n",
    "#df2 = df2[['id', 'zipcode']] # reorder columns to match df1\n",
    "#df2\n",
    "\n",
    "#df3 = pd.merge(df2, df1, left_on='id', right_on='id', suffixes=('', '_original')) # Left join df1 and df2 on id\n",
    "\n",
    "#print(df1)\n",
    "#print(df2)\n",
    "#print(df3)\n"
   ]
  },
  {
   "cell_type": "code",
   "execution_count": 6,
   "metadata": {},
   "outputs": [
    {
     "name": "stdout",
     "output_type": "stream",
     "text": [
      "  id neighbourhood  residents         zipcode\n",
      "0  a        harlem        1.0            3000\n",
      "1  b          soho    12342.0       4000,4003\n",
      "2  c     manhattan    12433.0  3333,2222,3311\n",
      "  id zipcode\n",
      "0  a    3000\n",
      "1  b    4000\n",
      "2  b    4003\n",
      "3  c    3333\n",
      "4  c    2222\n",
      "5  c    3311\n",
      "  id zipcode neighbourhood  residents zipcode_original\n",
      "0  a    3000        harlem        1.0             3000\n",
      "1  b    4000          soho    12342.0        4000,4003\n",
      "2  b    4003          soho    12342.0        4000,4003\n",
      "3  c    3333     manhattan    12433.0   3333,2222,3311\n",
      "4  c    2222     manhattan    12433.0   3333,2222,3311\n",
      "5  c    3311     manhattan    12433.0   3333,2222,3311\n"
     ]
    }
   ],
   "source": [
    "x = float (1)\n",
    "df1 = pd.DataFrame({'id': ['a', 'b', 'c'],\n",
    "'neighbourhood': ['harlem', 'soho', 'manhattan'],\n",
    "'residents': [x, 12342, 12433],\n",
    "'zipcode': ['3000', '4000,4003', '3333,2222,3311']})\n",
    "\n",
    "df2 = pd.DataFrame(df1.zipcode.str.split(',').tolist(), index=df1.id).stack() # split by comma and create new rows\n",
    "df2 = df2.reset_index()[[0, 'id']] # reset index and remove invalid row \n",
    "df2.columns = ['zipcode', 'id'] # rename columns\n",
    "df2 = df2[['id', 'zipcode']] # reorder columns to match df1\n",
    "\n",
    "\n",
    "df3 = pd.merge(df2, df1, left_on='id', right_on='id', suffixes=('', '_original')) # Left join df1 and df2 on id\n",
    "\n",
    "print(df1)\n",
    "print(df2)\n",
    "print(df3)"
   ]
  },
  {
   "cell_type": "code",
   "execution_count": null,
   "metadata": {},
   "outputs": [],
   "source": []
  },
  {
   "cell_type": "code",
   "execution_count": null,
   "metadata": {},
   "outputs": [],
   "source": []
  },
  {
   "cell_type": "code",
   "execution_count": null,
   "metadata": {},
   "outputs": [],
   "source": []
  },
  {
   "cell_type": "code",
   "execution_count": null,
   "metadata": {},
   "outputs": [],
   "source": []
  },
  {
   "cell_type": "code",
   "execution_count": null,
   "metadata": {},
   "outputs": [],
   "source": []
  },
  {
   "cell_type": "code",
   "execution_count": null,
   "metadata": {},
   "outputs": [],
   "source": []
  }
 ],
 "metadata": {
  "kernelspec": {
   "display_name": "Python 3",
   "language": "python",
   "name": "python3"
  },
  "language_info": {
   "codemirror_mode": {
    "name": "ipython",
    "version": 3
   },
   "file_extension": ".py",
   "mimetype": "text/x-python",
   "name": "python",
   "nbconvert_exporter": "python",
   "pygments_lexer": "ipython3",
   "version": "3.6.4"
  }
 },
 "nbformat": 4,
 "nbformat_minor": 2
}
