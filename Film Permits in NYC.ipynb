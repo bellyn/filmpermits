{
 "cells": [
  {
   "cell_type": "markdown",
   "metadata": {},
   "source": [
    "<h1> What are the most-filmed spots in New York?</h1>"
   ]
  },
  {
   "cell_type": "markdown",
   "metadata": {},
   "source": [
    "I am interested in looking at the most-filmed neighborhoods in NYC. To do this, I will be looking at the film permits issued by Mayor's Office of Film, Theatre and Broadcasting between 2012 - 2017. \n",
    "\n",
    "Data source: NYC Open Data, https://data.cityofnewyork.us/City-Government/Film-Permits/tg4x-b46p"
   ]
  },
  {
   "cell_type": "markdown",
   "metadata": {},
   "source": [
    "<h3>Introduction</h3>"
   ]
  },
  {
   "cell_type": "markdown",
   "metadata": {},
   "source": [
    "Film permits are not limited to filming activity. The Mayor's Office considers filming, photography, production, television or radio activity as a filming activity that require film permits if the activity\n",
    "<li>requires the use of vehicles or equipment;\n",
    "<li>involves the assertion by any means, including physical or verbal, of exclusive use of one or more lanes of a street or walkway of a bridge or if such activity involves the assertion by any means, including\n",
    "physical or verbal, of exclusive use of more than one-half of a sidewalk or other pedestrian\n",
    "passageway or,\n",
    "<li>in a situation in which the sidewalk or pedestrian passageway is narrower than\n",
    "sixteen feet, if such activity involves the assertion by any means, including physical or verbal, of\n",
    "exclusive use of the sidewalk or pedestrian passageway such that less than eight feet is otherwise\n",
    "available for pedestrian use. \n",
    "   \n",
    "   \n",
    "That said, personal filming that does not inhibit the daily ongoings of the city are permissible. \n",
    "\n",
    "The analysis of film permits will therefore restrict our conclusion of the most-filmed neighborhoods in NYC to those filming activities that require a film permit, i.e. larger productions.\n"
   ]
  },
  {
   "cell_type": "markdown",
   "metadata": {},
   "source": [
    "<h3>1. Looking at the Data</h3>\n",
    "\n",
    "Let's look at the data variables and figure out which variables are the most useful for the purpose of this analysis."
   ]
  },
  {
   "cell_type": "code",
   "execution_count": 1,
   "metadata": {},
   "outputs": [
    {
     "name": "stdout",
     "output_type": "stream",
     "text": [
      "<class 'pandas.core.frame.DataFrame'>\n",
      "RangeIndex: 47324 entries, 0 to 47323\n",
      "Data columns (total 14 columns):\n",
      "EventID              47324 non-null int64\n",
      "EventType            47324 non-null object\n",
      "StartDateTime        47324 non-null object\n",
      "EndDateTime          47324 non-null object\n",
      "EnteredOn            47324 non-null object\n",
      "EventAgency          47324 non-null object\n",
      "ParkingHeld          47324 non-null object\n",
      "Borough              47324 non-null object\n",
      "CommunityBoard(s)    47313 non-null object\n",
      "PolicePrecinct(s)    47313 non-null object\n",
      "Category             47324 non-null object\n",
      "SubCategoryName      47324 non-null object\n",
      "Country              47324 non-null object\n",
      "ZipCode(s)           47313 non-null object\n",
      "dtypes: int64(1), object(13)\n",
      "memory usage: 5.1+ MB\n"
     ]
    }
   ],
   "source": [
    "import pandas as pd\n",
    "import numpy as np\n",
    "import seaborn as sns\n",
    "import matplotlib.pyplot as plt\n",
    "df = pd.read_csv(\"Film_Permits.csv\")\n",
    "df.info()"
   ]
  },
  {
   "cell_type": "markdown",
   "metadata": {},
   "source": [
    "<h3>Data Cleaning</h3> \n",
    "In this step I am getting rid of the columns unnecessary for this analysis, such as EventAgency and Country since they  contain the same datafield. I am also removing CommunityBoard and PolicePrecinct which are not relevant to the analysis. "
   ]
  },
  {
   "cell_type": "code",
   "execution_count": 2,
   "metadata": {},
   "outputs": [],
   "source": [
    "df = df.sort_values(df.columns[0], ascending=\"True\") ## sort by EventId\n",
    "df = df.reset_index(drop=True)\n",
    "df = df.drop([\"EventAgency\",\"CommunityBoard(s)\",\"PolicePrecinct(s)\",\"Country\"], axis=1) ## drop the unused categories\n"
   ]
  },
  {
   "cell_type": "code",
   "execution_count": 3,
   "metadata": {
    "scrolled": true
   },
   "outputs": [
    {
     "data": {
      "text/html": [
       "<div>\n",
       "<style scoped>\n",
       "    .dataframe tbody tr th:only-of-type {\n",
       "        vertical-align: middle;\n",
       "    }\n",
       "\n",
       "    .dataframe tbody tr th {\n",
       "        vertical-align: top;\n",
       "    }\n",
       "\n",
       "    .dataframe thead th {\n",
       "        text-align: right;\n",
       "    }\n",
       "</style>\n",
       "<table border=\"1\" class=\"dataframe\">\n",
       "  <thead>\n",
       "    <tr style=\"text-align: right;\">\n",
       "      <th></th>\n",
       "      <th>id</th>\n",
       "      <th>event</th>\n",
       "      <th>start</th>\n",
       "      <th>end</th>\n",
       "      <th>enteredon</th>\n",
       "      <th>parkingheld</th>\n",
       "      <th>borough</th>\n",
       "      <th>category</th>\n",
       "      <th>subcategory</th>\n",
       "      <th>zipcode</th>\n",
       "    </tr>\n",
       "  </thead>\n",
       "  <tbody>\n",
       "    <tr>\n",
       "      <th>0</th>\n",
       "      <td>42069</td>\n",
       "      <td>Theater Load in and Load Outs</td>\n",
       "      <td>01/02/2012 07:00:00 AM</td>\n",
       "      <td>01/27/2012 10:00:00 PM</td>\n",
       "      <td>12/07/2011 04:38:54 PM</td>\n",
       "      <td>WEST   44 STREET between 7 AVENUE and 8 AVENUE</td>\n",
       "      <td>Manhattan</td>\n",
       "      <td>Theater</td>\n",
       "      <td>Theater</td>\n",
       "      <td>10036</td>\n",
       "    </tr>\n",
       "    <tr>\n",
       "      <th>1</th>\n",
       "      <td>42287</td>\n",
       "      <td>Shooting Permit</td>\n",
       "      <td>01/05/2012 01:00:00 PM</td>\n",
       "      <td>01/05/2012 11:30:00 PM</td>\n",
       "      <td>12/09/2011 02:08:35 PM</td>\n",
       "      <td>WEST   65 STREET between BROADWAY and WEST END...</td>\n",
       "      <td>Manhattan</td>\n",
       "      <td>Theater</td>\n",
       "      <td>Theater</td>\n",
       "      <td>10023</td>\n",
       "    </tr>\n",
       "    <tr>\n",
       "      <th>2</th>\n",
       "      <td>42581</td>\n",
       "      <td>Shooting Permit</td>\n",
       "      <td>01/03/2012 10:00:00 AM</td>\n",
       "      <td>01/03/2012 09:00:00 PM</td>\n",
       "      <td>12/14/2011 09:56:47 AM</td>\n",
       "      <td>46 ROAD between 5 STREET and VERNON BOULEVARD,...</td>\n",
       "      <td>Queens</td>\n",
       "      <td>Television</td>\n",
       "      <td>Episodic series</td>\n",
       "      <td>11101</td>\n",
       "    </tr>\n",
       "    <tr>\n",
       "      <th>3</th>\n",
       "      <td>42727</td>\n",
       "      <td>Shooting Permit</td>\n",
       "      <td>01/03/2012 08:00:00 AM</td>\n",
       "      <td>01/03/2012 10:00:00 PM</td>\n",
       "      <td>12/15/2011 01:27:48 PM</td>\n",
       "      <td>22ND STREET between QUEENS PLAZA SOUTH and 43R...</td>\n",
       "      <td>Queens</td>\n",
       "      <td>Television</td>\n",
       "      <td>Episodic series</td>\n",
       "      <td>11101</td>\n",
       "    </tr>\n",
       "    <tr>\n",
       "      <th>4</th>\n",
       "      <td>42737</td>\n",
       "      <td>Theater Load in and Load Outs</td>\n",
       "      <td>01/02/2012 06:00:00 AM</td>\n",
       "      <td>01/18/2012 08:00:00 PM</td>\n",
       "      <td>12/15/2011 02:06:52 PM</td>\n",
       "      <td>WEST   46 STREET between 7 AVENUE and 8 AVENUE</td>\n",
       "      <td>Manhattan</td>\n",
       "      <td>Theater</td>\n",
       "      <td>Theater</td>\n",
       "      <td>10036</td>\n",
       "    </tr>\n",
       "    <tr>\n",
       "      <th>5</th>\n",
       "      <td>42780</td>\n",
       "      <td>Theater Load in and Load Outs</td>\n",
       "      <td>01/02/2012 06:00:00 PM</td>\n",
       "      <td>01/03/2012 12:00:00 AM</td>\n",
       "      <td>12/15/2011 05:47:56 PM</td>\n",
       "      <td>WEST   56 STREET between 7 AVENUE and 6 AVENUE</td>\n",
       "      <td>Manhattan</td>\n",
       "      <td>Theater</td>\n",
       "      <td>Theater</td>\n",
       "      <td>10019</td>\n",
       "    </tr>\n",
       "    <tr>\n",
       "      <th>6</th>\n",
       "      <td>42781</td>\n",
       "      <td>Theater Load in and Load Outs</td>\n",
       "      <td>01/03/2012 12:00:00 AM</td>\n",
       "      <td>01/03/2012 06:00:00 PM</td>\n",
       "      <td>12/15/2011 05:52:18 PM</td>\n",
       "      <td>WEST   56 STREET between 7 AVENUE and 6 AVENUE</td>\n",
       "      <td>Manhattan</td>\n",
       "      <td>Theater</td>\n",
       "      <td>Theater</td>\n",
       "      <td>10019</td>\n",
       "    </tr>\n",
       "    <tr>\n",
       "      <th>7</th>\n",
       "      <td>42804</td>\n",
       "      <td>Shooting Permit</td>\n",
       "      <td>01/09/2012 06:30:00 AM</td>\n",
       "      <td>01/09/2012 09:00:00 PM</td>\n",
       "      <td>12/16/2011 11:30:58 AM</td>\n",
       "      <td>EAGLE STREET between WEST STREET and FRANKLIN ...</td>\n",
       "      <td>Brooklyn</td>\n",
       "      <td>Television</td>\n",
       "      <td>Episodic series</td>\n",
       "      <td>11222</td>\n",
       "    </tr>\n",
       "    <tr>\n",
       "      <th>8</th>\n",
       "      <td>42825</td>\n",
       "      <td>Shooting Permit</td>\n",
       "      <td>01/04/2012 07:00:00 AM</td>\n",
       "      <td>01/04/2012 10:00:00 PM</td>\n",
       "      <td>12/16/2011 03:04:01 PM</td>\n",
       "      <td>EAST   12 STREET between 4 AVENUE and 3 AVENUE...</td>\n",
       "      <td>Manhattan</td>\n",
       "      <td>Television</td>\n",
       "      <td>Episodic series</td>\n",
       "      <td>10003</td>\n",
       "    </tr>\n",
       "    <tr>\n",
       "      <th>9</th>\n",
       "      <td>42847</td>\n",
       "      <td>Shooting Permit</td>\n",
       "      <td>01/03/2012 07:00:00 AM</td>\n",
       "      <td>01/04/2012 11:00:00 PM</td>\n",
       "      <td>12/16/2011 07:35:40 PM</td>\n",
       "      <td>STARR AVENUE between VAN DAM STREET and BORDEN...</td>\n",
       "      <td>Queens</td>\n",
       "      <td>Television</td>\n",
       "      <td>Episodic series</td>\n",
       "      <td>11101</td>\n",
       "    </tr>\n",
       "    <tr>\n",
       "      <th>10</th>\n",
       "      <td>42923</td>\n",
       "      <td>Shooting Permit</td>\n",
       "      <td>01/03/2012 07:00:00 AM</td>\n",
       "      <td>01/03/2012 10:30:00 PM</td>\n",
       "      <td>12/19/2011 01:08:58 PM</td>\n",
       "      <td>BRIDGE STREET between STATE STREET and BROAD S...</td>\n",
       "      <td>Manhattan</td>\n",
       "      <td>Television</td>\n",
       "      <td>Episodic series</td>\n",
       "      <td>10004</td>\n",
       "    </tr>\n",
       "    <tr>\n",
       "      <th>11</th>\n",
       "      <td>42926</td>\n",
       "      <td>Theater Load in and Load Outs</td>\n",
       "      <td>01/02/2012 06:00:00 AM</td>\n",
       "      <td>01/31/2012 11:00:00 PM</td>\n",
       "      <td>12/19/2011 02:05:39 PM</td>\n",
       "      <td>WEST   46 STREET between 7 AVENUE and 6 AVENUE</td>\n",
       "      <td>Manhattan</td>\n",
       "      <td>Theater</td>\n",
       "      <td>Theater</td>\n",
       "      <td>10036</td>\n",
       "    </tr>\n",
       "    <tr>\n",
       "      <th>12</th>\n",
       "      <td>43049</td>\n",
       "      <td>Shooting Permit</td>\n",
       "      <td>01/05/2012 07:00:00 AM</td>\n",
       "      <td>01/05/2012 04:00:00 PM</td>\n",
       "      <td>12/21/2011 11:28:10 AM</td>\n",
       "      <td>BROADWAY between WEST   42 STREET and WEST   4...</td>\n",
       "      <td>Manhattan</td>\n",
       "      <td>WEB</td>\n",
       "      <td>Not Applicable</td>\n",
       "      <td>10020, 10036, 11215, 11217, 11238</td>\n",
       "    </tr>\n",
       "    <tr>\n",
       "      <th>13</th>\n",
       "      <td>43053</td>\n",
       "      <td>Shooting Permit</td>\n",
       "      <td>01/02/2012 12:01:00 AM</td>\n",
       "      <td>01/02/2012 11:59:00 PM</td>\n",
       "      <td>12/21/2011 12:13:45 PM</td>\n",
       "      <td>WEST   33 STREET between 6 AVENUE and 8 AVENUE...</td>\n",
       "      <td>Manhattan</td>\n",
       "      <td>Theater</td>\n",
       "      <td>Theater</td>\n",
       "      <td>10001, 10121</td>\n",
       "    </tr>\n",
       "  </tbody>\n",
       "</table>\n",
       "</div>"
      ],
      "text/plain": [
       "       id                          event                   start  \\\n",
       "0   42069  Theater Load in and Load Outs  01/02/2012 07:00:00 AM   \n",
       "1   42287                Shooting Permit  01/05/2012 01:00:00 PM   \n",
       "2   42581                Shooting Permit  01/03/2012 10:00:00 AM   \n",
       "3   42727                Shooting Permit  01/03/2012 08:00:00 AM   \n",
       "4   42737  Theater Load in and Load Outs  01/02/2012 06:00:00 AM   \n",
       "5   42780  Theater Load in and Load Outs  01/02/2012 06:00:00 PM   \n",
       "6   42781  Theater Load in and Load Outs  01/03/2012 12:00:00 AM   \n",
       "7   42804                Shooting Permit  01/09/2012 06:30:00 AM   \n",
       "8   42825                Shooting Permit  01/04/2012 07:00:00 AM   \n",
       "9   42847                Shooting Permit  01/03/2012 07:00:00 AM   \n",
       "10  42923                Shooting Permit  01/03/2012 07:00:00 AM   \n",
       "11  42926  Theater Load in and Load Outs  01/02/2012 06:00:00 AM   \n",
       "12  43049                Shooting Permit  01/05/2012 07:00:00 AM   \n",
       "13  43053                Shooting Permit  01/02/2012 12:01:00 AM   \n",
       "\n",
       "                       end               enteredon  \\\n",
       "0   01/27/2012 10:00:00 PM  12/07/2011 04:38:54 PM   \n",
       "1   01/05/2012 11:30:00 PM  12/09/2011 02:08:35 PM   \n",
       "2   01/03/2012 09:00:00 PM  12/14/2011 09:56:47 AM   \n",
       "3   01/03/2012 10:00:00 PM  12/15/2011 01:27:48 PM   \n",
       "4   01/18/2012 08:00:00 PM  12/15/2011 02:06:52 PM   \n",
       "5   01/03/2012 12:00:00 AM  12/15/2011 05:47:56 PM   \n",
       "6   01/03/2012 06:00:00 PM  12/15/2011 05:52:18 PM   \n",
       "7   01/09/2012 09:00:00 PM  12/16/2011 11:30:58 AM   \n",
       "8   01/04/2012 10:00:00 PM  12/16/2011 03:04:01 PM   \n",
       "9   01/04/2012 11:00:00 PM  12/16/2011 07:35:40 PM   \n",
       "10  01/03/2012 10:30:00 PM  12/19/2011 01:08:58 PM   \n",
       "11  01/31/2012 11:00:00 PM  12/19/2011 02:05:39 PM   \n",
       "12  01/05/2012 04:00:00 PM  12/21/2011 11:28:10 AM   \n",
       "13  01/02/2012 11:59:00 PM  12/21/2011 12:13:45 PM   \n",
       "\n",
       "                                          parkingheld    borough    category  \\\n",
       "0      WEST   44 STREET between 7 AVENUE and 8 AVENUE  Manhattan     Theater   \n",
       "1   WEST   65 STREET between BROADWAY and WEST END...  Manhattan     Theater   \n",
       "2   46 ROAD between 5 STREET and VERNON BOULEVARD,...     Queens  Television   \n",
       "3   22ND STREET between QUEENS PLAZA SOUTH and 43R...     Queens  Television   \n",
       "4      WEST   46 STREET between 7 AVENUE and 8 AVENUE  Manhattan     Theater   \n",
       "5      WEST   56 STREET between 7 AVENUE and 6 AVENUE  Manhattan     Theater   \n",
       "6      WEST   56 STREET between 7 AVENUE and 6 AVENUE  Manhattan     Theater   \n",
       "7   EAGLE STREET between WEST STREET and FRANKLIN ...   Brooklyn  Television   \n",
       "8   EAST   12 STREET between 4 AVENUE and 3 AVENUE...  Manhattan  Television   \n",
       "9   STARR AVENUE between VAN DAM STREET and BORDEN...     Queens  Television   \n",
       "10  BRIDGE STREET between STATE STREET and BROAD S...  Manhattan  Television   \n",
       "11     WEST   46 STREET between 7 AVENUE and 6 AVENUE  Manhattan     Theater   \n",
       "12  BROADWAY between WEST   42 STREET and WEST   4...  Manhattan         WEB   \n",
       "13  WEST   33 STREET between 6 AVENUE and 8 AVENUE...  Manhattan     Theater   \n",
       "\n",
       "        subcategory                            zipcode  \n",
       "0           Theater                              10036  \n",
       "1           Theater                              10023  \n",
       "2   Episodic series                              11101  \n",
       "3   Episodic series                              11101  \n",
       "4           Theater                              10036  \n",
       "5           Theater                              10019  \n",
       "6           Theater                              10019  \n",
       "7   Episodic series                              11222  \n",
       "8   Episodic series                              10003  \n",
       "9   Episodic series                              11101  \n",
       "10  Episodic series                              10004  \n",
       "11          Theater                              10036  \n",
       "12   Not Applicable  10020, 10036, 11215, 11217, 11238  \n",
       "13          Theater                       10001, 10121  "
      ]
     },
     "execution_count": 3,
     "metadata": {},
     "output_type": "execute_result"
    }
   ],
   "source": [
    "df.columns = ['id','event','start','end','enteredon','parkingheld','borough','category','subcategory','zipcode']\n",
    "df.head(14)"
   ]
  },
  {
   "cell_type": "markdown",
   "metadata": {},
   "source": [
    "[NOTE on Zipcodes]\n",
    "\n",
    "Some film permits were issued for multiple zipcodes with the same Event ID's (for example, on line 12 and 13).\n",
    "\n",
    "For the first part of the analysis, the film permits will be considered by the unique Event ID's. Later in the geographical analysis, the zipcodes will be separated into their own entries.\n"
   ]
  },
  {
   "cell_type": "markdown",
   "metadata": {},
   "source": [
    "<h2>2. Analysis by Time</h2>\n",
    "<h3>2.1 Average Length of a Film Permit</h3>"
   ]
  },
  {
   "cell_type": "markdown",
   "metadata": {},
   "source": [
    "First I want to see what the typical length of a film permit is."
   ]
  },
  {
   "cell_type": "code",
   "execution_count": 4,
   "metadata": {},
   "outputs": [
    {
     "data": {
      "text/plain": [
       "array([0, 1, 2, 3, 5])"
      ]
     },
     "execution_count": 4,
     "metadata": {},
     "output_type": "execute_result"
    }
   ],
   "source": [
    "df['start'] = pd.to_datetime(df['start'])\n",
    "df['laun_month_year'] = df['start'].dt.to_period(\"M\")\n",
    "df['laun_year'] = df['start'].dt.to_period(\"A\")\n",
    "\n",
    "df['end'] = pd.to_datetime(df['end'])\n",
    "df['dead_month_year'] = df['end'].dt.to_period(\"M\")\n",
    "df['dead_year'] = df['end'].dt.to_period(\"A\")\n",
    "\n",
    "#Creating a new columns with Campaign total months\n",
    "df['time_filming'] = df['dead_month_year'] - df['laun_month_year']\n",
    "df['time_filming'] = df['time_filming'].astype(int)\n",
    "\n",
    "df.time_filming.unique()"
   ]
  },
  {
   "cell_type": "markdown",
   "metadata": {},
   "source": [
    "It seems like the film permits were issued for from 0 (less than one month) to a maximum of 5 months."
   ]
  },
  {
   "cell_type": "code",
   "execution_count": 5,
   "metadata": {},
   "outputs": [
    {
     "name": "stdout",
     "output_type": "stream",
     "text": [
      "Number of months of each film permit\n",
      "   # of permits\n",
      "0         46705\n",
      "1           610\n",
      "2             7\n",
      "5             1\n",
      "3             1\n",
      "\n",
      "Number of months by percentage\n",
      "   % of permits\n",
      "0         98.69\n",
      "1          1.29\n",
      "2          0.01\n",
      "5          0.00\n",
      "3          0.00\n",
      "\n",
      "Median of number of months:  0.0\n"
     ]
    }
   ],
   "source": [
    "timefilmingtable = df[\"time_filming\"].value_counts(dropna =False).to_frame()\n",
    "print(\"Number of months of each film permit\")\n",
    "timefilmingtable.columns = ['# of permits']\n",
    "print(timefilmingtable)\n",
    "print(\"\")\n",
    "\n",
    "timefilming = round(df[\"time_filming\"].value_counts().to_frame() / len(df[\"time_filming\"]) * 100,2)\n",
    "print(\"Number of months by percentage\")\n",
    "timefilming.columns = [\"% of permits\"]\n",
    "print(timefilming)\n",
    "\n",
    "print(\"\")\n",
    "print(\"Median of number of months: \", df[\"time_filming\"].median())\n"
   ]
  },
  {
   "cell_type": "markdown",
   "metadata": {},
   "source": [
    "It seems like an overwhelming majority of film permits were issued for less than a month. This means that when we're looking at the most popular months to film we shouldn't need to worry too much about overlapping months. "
   ]
  },
  {
   "cell_type": "markdown",
   "metadata": {},
   "source": [
    "<h3>2.2 Most Popular Months to Film</h3>"
   ]
  },
  {
   "cell_type": "code",
   "execution_count": 6,
   "metadata": {},
   "outputs": [
    {
     "data": {
      "image/png": "[encoded data removed]",
      "text/plain": [
       "<matplotlib.figure.Figure at 0x106eee390>"
      ]
     },
     "metadata": {},
     "output_type": "display_data"
    }
   ],
   "source": [
    "df['month'] = pd.DatetimeIndex(df['start']).month\n",
    "df['month'].value_counts(dropna = False)\n",
    "\n",
    "plt.figure(figsize = (8,8))\n",
    "pic1 = sns.countplot(y=\"month\", data=df)\n",
    "pic1.set_title(\"Number of film permits by Month\")\n",
    "pic1.set_xlabel(\"Number of film permits\", fontsize=12)\n",
    "pic1.set_ylabel(\"Month\", fontsize=12)\n",
    "\n",
    "plt.show()"
   ]
  },
  {
   "cell_type": "markdown",
   "metadata": {},
   "source": [
    "Unsurprisingly, October was the most popular month to film, followed by the rest of the fall season: August, September, and November.\n",
    "\n",
    "The least popular months were in the winter: January was the most unpopular, followed by December (possibly due to the holiday season) and February."
   ]
  },
  {
   "cell_type": "markdown",
   "metadata": {},
   "source": [
    "<h2>3. Geographical Analysis</h2><h3>3.1 Number of Permits Issued by Borough</h3>\n",
    "\n",
    "Each film permit, regardless of the number of zipcodes used, is considered one count for this part of the analysis. Firstly we will see the number of permits issued by borough."
   ]
  },
  {
   "cell_type": "code",
   "execution_count": 7,
   "metadata": {},
   "outputs": [],
   "source": [
    "bo = df[\"borough\"].value_counts(dropna =False)"
   ]
  },
  {
   "cell_type": "code",
   "execution_count": 8,
   "metadata": {
    "scrolled": true
   },
   "outputs": [
    {
     "name": "stdout",
     "output_type": "stream",
     "text": [
      "Number of permits by Borough\n",
      "Manhattan        23812\n",
      "Brooklyn         14323\n",
      "Queens            7359\n",
      "Bronx             1240\n",
      "Staten Island      590\n",
      "Name: borough, dtype: int64\n"
     ]
    }
   ],
   "source": [
    "borough_counts = df[\"borough\"].value_counts(dropna =False)\n",
    "\n",
    "print(\"Number of permits by Borough\")\n",
    "print(borough_counts)"
   ]
  },
  {
   "cell_type": "code",
   "execution_count": 9,
   "metadata": {},
   "outputs": [
    {
     "data": {
      "image/png": "[encoded data removed]",
      "text/plain": [
       "<matplotlib.figure.Figure at 0x1a1c0dd4e0>"
      ]
     },
     "metadata": {},
     "output_type": "display_data"
    }
   ],
   "source": [
    "plt.figure(figsize = (8,6))\n",
    "ax1 = sns.countplot(x=\"borough\", data=df, palette=\"Greens_d\")\n",
    "ax1.set_xticklabels(ax1.get_xticklabels(),rotation=45)\n",
    "ax1.set_title(\"Number of Permits By Borough\", fontsize=15)\n",
    "ax1.set_xlabel(\"Borough\", fontsize=12)\n",
    "ax1.set_ylabel(\"Count\", fontsize=12)\n",
    "\n",
    "plt.show()"
   ]
  },
  {
   "cell_type": "code",
   "execution_count": 28,
   "metadata": {},
   "outputs": [
    {
     "data": {
      "text/html": [
       "<div>\n",
       "<style scoped>\n",
       "    .dataframe tbody tr th:only-of-type {\n",
       "        vertical-align: middle;\n",
       "    }\n",
       "\n",
       "    .dataframe tbody tr th {\n",
       "        vertical-align: top;\n",
       "    }\n",
       "\n",
       "    .dataframe thead th {\n",
       "        text-align: right;\n",
       "    }\n",
       "</style>\n",
       "<table border=\"1\" class=\"dataframe\">\n",
       "  <thead>\n",
       "    <tr style=\"text-align: right;\">\n",
       "      <th></th>\n",
       "      <th>id</th>\n",
       "      <th>event</th>\n",
       "      <th>start</th>\n",
       "      <th>end</th>\n",
       "      <th>enteredon</th>\n",
       "      <th>parkingheld</th>\n",
       "      <th>borough</th>\n",
       "      <th>category</th>\n",
       "      <th>subcategory</th>\n",
       "      <th>zipcode</th>\n",
       "      <th>laun_month_year</th>\n",
       "      <th>laun_year</th>\n",
       "      <th>dead_month_year</th>\n",
       "      <th>dead_year</th>\n",
       "      <th>time_filming</th>\n",
       "      <th>month</th>\n",
       "    </tr>\n",
       "  </thead>\n",
       "  <tbody>\n",
       "    <tr>\n",
       "      <th>37152</th>\n",
       "      <td>308397</td>\n",
       "      <td>Shooting Permit</td>\n",
       "      <td>2016-09-12 06:00:00</td>\n",
       "      <td>2016-09-12 23:59:00</td>\n",
       "      <td>08/30/2016 03:03:39 PM</td>\n",
       "      <td>10 AVENUE between WEST   26 STREET and WEST   ...</td>\n",
       "      <td>Manhattan</td>\n",
       "      <td>Red Carpet/Premiere</td>\n",
       "      <td>TV Premiere</td>\n",
       "      <td>10001</td>\n",
       "      <td>2016-09</td>\n",
       "      <td>2016</td>\n",
       "      <td>2016-09</td>\n",
       "      <td>2016</td>\n",
       "      <td>0</td>\n",
       "      <td>9</td>\n",
       "    </tr>\n",
       "  </tbody>\n",
       "</table>\n",
       "</div>"
      ],
      "text/plain": [
       "           id            event               start                 end  \\\n",
       "37152  308397  Shooting Permit 2016-09-12 06:00:00 2016-09-12 23:59:00   \n",
       "\n",
       "                    enteredon  \\\n",
       "37152  08/30/2016 03:03:39 PM   \n",
       "\n",
       "                                             parkingheld    borough  \\\n",
       "37152  10 AVENUE between WEST   26 STREET and WEST   ...  Manhattan   \n",
       "\n",
       "                  category  subcategory zipcode laun_month_year laun_year  \\\n",
       "37152  Red Carpet/Premiere  TV Premiere   10001         2016-09      2016   \n",
       "\n",
       "      dead_month_year dead_year  time_filming  month  \n",
       "37152         2016-09      2016             0      9  "
      ]
     },
     "execution_count": 28,
     "metadata": {},
     "output_type": "execute_result"
    }
   ],
   "source": [
    "st = df[df[\"category\"] == \"Red Carpet/Premiere\"]\n",
    "st"
   ]
  },
  {
   "cell_type": "markdown",
   "metadata": {},
   "source": [
    "Unsurprisingly, Manhattan was the most-filmed borough, followed by Brooklyn (my instinct is that those filmed areas in Brooklyn are concentrated by the river with the view of Manhattan).\n",
    "\n",
    "Next I am curious to know if filming in these boroughs is related to the month or the length of filming.\n"
   ]
  },
  {
   "cell_type": "code",
   "execution_count": 10,
   "metadata": {},
   "outputs": [
    {
     "data": {
      "image/png": "[encoded data removed]",
      "text/plain": [
       "<matplotlib.figure.Figure at 0x1a1c305710>"
      ]
     },
     "metadata": {},
     "output_type": "display_data"
    }
   ],
   "source": [
    "## Create a dummy variable for each borough\n",
    "borough_dummies = pd.get_dummies(df['borough'].rename(columns=lambda x: 'Borough Dummies'))\n",
    "df2 = pd.concat([df, borough_dummies], axis=1)\n",
    "\n",
    "## Plot a correlation matrix and visualize it using Seaborn\n",
    "plt.figure(figsize = (10,10))\n",
    "sns.heatmap(df2[df2.columns[1:]].corr(), annot=True, fmt=\".2f\")\n",
    "plt.show()"
   ]
  },
  {
   "cell_type": "markdown",
   "metadata": {},
   "source": [
    "I checked the correlation between the boroughs with the month and length of filming to see if there is any significant correlation between them. \n",
    "\n",
    "Borough-to-borough correlations should be ignored. If you were filming in Manhattan you are definitely not filming in Brooklyn at the same time.\n",
    "\n",
    "Based first two rows, it doesn't seem as if there is a significant relationship between the two variables and the boroughs. The correlation coefficients are very small. However, it is interesting to note that:\n",
    "<li> If you are filming in Manhattan, you are more likely to film longer. In the other four boroughs, your length of filming is likely to be shorter.\n",
    "<li> If you are filming in Manhattan, you are likelier to film earlier in the year. In the other four boroughs, you are likelier to film later in the year. \n",
    "    \n",
    "These differences are very small as we are only considering percentage differences of less than 4% for each case.\n"
   ]
  },
  {
   "cell_type": "markdown",
   "metadata": {},
   "source": [
    "<h3>3.2 The Most Popular Zipcodes</h3>\n",
    "\n",
    "Some data rows have more than one zipcode listed per film permit. To conduct the geographical analysis, I will consider each of these zipcodes as one count. To do this, each entry containing more than one zipcode is split into multiple entries containing one respective zipcodes.\n"
   ]
  },
  {
   "cell_type": "code",
   "execution_count": 11,
   "metadata": {},
   "outputs": [],
   "source": [
    "df['zipcode'] = df['zipcode'].astype(str) #cast zipcode column as strings\n",
    "df2 = pd.DataFrame(df.zipcode.str.split(',').tolist(), index=df.id).stack() # split by comma and create new rows\n",
    "df2 = df2.reset_index()[[0, 'id']] # reset index and remove invalid row \n",
    "df2.columns = ['zipcode', 'id'] # rename columns\n",
    "df2 = df2[['id', 'zipcode']] # reorder columns to match df1\n",
    "df2['zipcode'] = df2['zipcode'].str.strip()\n",
    "\n",
    "df3 = pd.merge(df2, df, left_on='id', right_on='id', suffixes=('', '_original')) # Left join df1 and df2 on id\n",
    "df3 = df3.drop([\"zipcode_original\"], axis=1)  "
   ]
  },
  {
   "cell_type": "code",
   "execution_count": 12,
   "metadata": {},
   "outputs": [
    {
     "name": "stdout",
     "output_type": "stream",
     "text": [
      "The top 10 most popular filming locations by zipcodes\n"
     ]
    },
    {
     "data": {
      "text/plain": [
       "11222    5351\n",
       "11101    4475\n",
       "10036    3186\n",
       "10019    3173\n",
       "10001    2365\n",
       "10013    2193\n",
       "10011    2163\n",
       "11201    1900\n",
       "10003    1883\n",
       "10023    1845\n",
       "Name: zipcode, dtype: int64"
      ]
     },
     "execution_count": 12,
     "metadata": {},
     "output_type": "execute_result"
    }
   ],
   "source": [
    "print(\"The top 10 most popular filming locations by zipcodes\")\n",
    "zipcodes = df3[\"zipcode\"].value_counts(dropna =False)\n",
    "zipcodes.head(10)"
   ]
  },
  {
   "cell_type": "markdown",
   "metadata": {},
   "source": [
    "However, unless one is familiar with NYC zipcodes, these don't actually tell us much. A quick Google search shows that 11222 is the zipcode for Greenpoint. This analysis points to Greenpoint as the most popular neighborhood to be filmed, but we will see.\n",
    "\n",
    "I will now use the data from the NYC Department of Health to label each zipcode with its appropriate neighborhood category. \n",
    "\n",
    "Data source: https://www.health.ny.gov/statistics/cancer/registry/appendix/neighborhoods.htm"
   ]
  },
  {
   "cell_type": "code",
   "execution_count": 13,
   "metadata": {},
   "outputs": [
    {
     "data": {
      "text/html": [
       "<div>\n",
       "<style scoped>\n",
       "    .dataframe tbody tr th:only-of-type {\n",
       "        vertical-align: middle;\n",
       "    }\n",
       "\n",
       "    .dataframe tbody tr th {\n",
       "        vertical-align: top;\n",
       "    }\n",
       "\n",
       "    .dataframe thead th {\n",
       "        text-align: right;\n",
       "    }\n",
       "</style>\n",
       "<table border=\"1\" class=\"dataframe\">\n",
       "  <thead>\n",
       "    <tr style=\"text-align: right;\">\n",
       "      <th></th>\n",
       "      <th>neighborhood</th>\n",
       "      <th>zipcode</th>\n",
       "    </tr>\n",
       "  </thead>\n",
       "  <tbody>\n",
       "    <tr>\n",
       "      <th>0</th>\n",
       "      <td>Central Bronx</td>\n",
       "      <td>10453, 10457, 10460</td>\n",
       "    </tr>\n",
       "    <tr>\n",
       "      <th>1</th>\n",
       "      <td>Bronx Park and Fordham</td>\n",
       "      <td>10458, 10467, 10468</td>\n",
       "    </tr>\n",
       "    <tr>\n",
       "      <th>2</th>\n",
       "      <td>High Bridge and Morrisania</td>\n",
       "      <td>10451, 10452, 10456</td>\n",
       "    </tr>\n",
       "    <tr>\n",
       "      <th>3</th>\n",
       "      <td>Hunts Point and Mott Haven</td>\n",
       "      <td>10454, 10455, 10459, 10474</td>\n",
       "    </tr>\n",
       "    <tr>\n",
       "      <th>4</th>\n",
       "      <td>Kingsbridge and Riverdale</td>\n",
       "      <td>10463, 10471</td>\n",
       "    </tr>\n",
       "  </tbody>\n",
       "</table>\n",
       "</div>"
      ],
      "text/plain": [
       "                 neighborhood                     zipcode\n",
       "0               Central Bronx         10453, 10457, 10460\n",
       "1      Bronx Park and Fordham         10458, 10467, 10468\n",
       "2  High Bridge and Morrisania         10451, 10452, 10456\n",
       "3  Hunts Point and Mott Haven  10454, 10455, 10459, 10474\n",
       "4   Kingsbridge and Riverdale                10463, 10471"
      ]
     },
     "execution_count": 13,
     "metadata": {},
     "output_type": "execute_result"
    }
   ],
   "source": [
    "df4 = pd.read_csv(\"zipcodes.csv\")\n",
    "df4 = df4.drop(df4.columns[2], axis=1)\n",
    "df4.columns = ['neighborhood', 'zipcode']\n",
    "df4.head(5)"
   ]
  },
  {
   "cell_type": "code",
   "execution_count": 14,
   "metadata": {},
   "outputs": [],
   "source": [
    "## Again, I am splitting up the zipcodes into individual rows. \n",
    "\n",
    "df4['zipcode'] = df4['zipcode'].astype(str) #cast zipcode column as strings\n",
    "df5 = pd.DataFrame(df4.zipcode.str.split(',').tolist(), index=df4.neighborhood).stack() # split by comma and create new rows\n",
    "df5 = df5.reset_index()[[0, 'neighborhood']] # reset index and remove invalid row \n",
    "df5.columns = ['zipcode', 'neighborhood'] # rename columns\n",
    "df5 = df5[['neighborhood', 'zipcode']] # reorder columns to match df1\n",
    "\n",
    "df6 = pd.merge(df5, df4, left_on='neighborhood', right_on='neighborhood', suffixes=('', '_original')) # Left join df1 and df2 on id\n",
    "df6 = df6.drop([\"zipcode_original\"], axis=1)  \n",
    "\n",
    "df6['zipcode'] = df6['zipcode'].str.strip()\n",
    "\n",
    "\n",
    "## Set this dataframe to a dictionary so that I have a list of indexes and keys.\n",
    "## Source: https://stackoverflow.com/questions/26716616/convert-a-pandas-dataframe-to-a-dictionary\n",
    "df6.set_index(\"zipcode\", drop=True, inplace=True)\n",
    "dictionary = df6.to_dict()\n",
    "dictionary = dictionary.pop(\"neighborhood\", None)"
   ]
  },
  {
   "cell_type": "code",
   "execution_count": 15,
   "metadata": {},
   "outputs": [],
   "source": [
    "## Now let's map the neighborhood in the dictionary according to the zipcode in our main dataframe.\n",
    "\n",
    "df3['neighborhood'] = df3['zipcode'].map(dictionary)"
   ]
  },
  {
   "cell_type": "code",
   "execution_count": 16,
   "metadata": {},
   "outputs": [
    {
     "name": "stdout",
     "output_type": "stream",
     "text": [
      "Top 5 Unmapped Zipcodes\n"
     ]
    },
    {
     "data": {
      "text/plain": [
       "11249    1282\n",
       "10121     620\n",
       "10105     272\n",
       "10111     144\n",
       "10112     120\n",
       "Name: zipcode, dtype: int64"
      ]
     },
     "execution_count": 16,
     "metadata": {},
     "output_type": "execute_result"
    }
   ],
   "source": [
    "## Some neighborhoods might not be mapped because the dataset might be incomplete.\n",
    "## To find out, I want to see which zipcodes are not mapped to a neighborhood.\n",
    "\n",
    "print(\"Top 5 Unmapped Zipcodes\")\n",
    "nan_rows = df3[df3['neighborhood'].isnull()]\n",
    "nan_counts = nan_rows[\"zipcode\"].value_counts(dropna =False)\n",
    "nan_counts.head(5)"
   ]
  },
  {
   "cell_type": "markdown",
   "metadata": {},
   "source": [
    "After mapping, there were still some unmapped neighborhoods because of missing data in my second dataset. \n",
    "\n",
    "A quick Google search shows that 11249 borders around the Williamsburg area. 10121 borders around Koreatown.  10105, 10111 and 10112 each encompasses a block respectively in the area south of Central Park, all of which I will designate as \"Midtown\". While I am no real estate expert, I will go ahead and add these zipcode definitions to my dataset. \n",
    "\n",
    "Instead of reuploading my dataset, I will just add these 5 new definitions to a new dictionary and re-map it. \n",
    "\n",
    "I am also disregarding the remaining unmapped zipcodes for the purposes of continuing with the analysis."
   ]
  },
  {
   "cell_type": "code",
   "execution_count": 17,
   "metadata": {},
   "outputs": [],
   "source": [
    "dictionary2 = {'11249': 'Bushwick and Williamsburg', \n",
    "               '10121': 'Midtown', \n",
    "               '10105': 'Midtown', \n",
    "               '10111': 'Midtown',\n",
    "               '10112': 'Midtown'}         \n",
    "\n",
    "dictionary.update(dictionary2)\n",
    "df3['neighborhood'] = df3['zipcode'].map(dictionary)"
   ]
  },
  {
   "cell_type": "code",
   "execution_count": 18,
   "metadata": {},
   "outputs": [
    {
     "name": "stdout",
     "output_type": "stream",
     "text": [
      "The top 10 most popular filming locations by neighborhood\n"
     ]
    },
    {
     "data": {
      "text/html": [
       "<div>\n",
       "<style scoped>\n",
       "    .dataframe tbody tr th:only-of-type {\n",
       "        vertical-align: middle;\n",
       "    }\n",
       "\n",
       "    .dataframe tbody tr th {\n",
       "        vertical-align: top;\n",
       "    }\n",
       "\n",
       "    .dataframe thead th {\n",
       "        text-align: right;\n",
       "    }\n",
       "</style>\n",
       "<table border=\"1\" class=\"dataframe\">\n",
       "  <thead>\n",
       "    <tr style=\"text-align: right;\">\n",
       "      <th></th>\n",
       "      <th>neighborhood</th>\n",
       "      <th>count</th>\n",
       "    </tr>\n",
       "  </thead>\n",
       "  <tbody>\n",
       "    <tr>\n",
       "      <th>0</th>\n",
       "      <td>Chelsea and Clinton</td>\n",
       "      <td>12321</td>\n",
       "    </tr>\n",
       "    <tr>\n",
       "      <th>1</th>\n",
       "      <td>Greenpoint</td>\n",
       "      <td>6796</td>\n",
       "    </tr>\n",
       "    <tr>\n",
       "      <th>2</th>\n",
       "      <td>Northwest Queens</td>\n",
       "      <td>6346</td>\n",
       "    </tr>\n",
       "    <tr>\n",
       "      <th>3</th>\n",
       "      <td>Northwest Brooklyn</td>\n",
       "      <td>5504</td>\n",
       "    </tr>\n",
       "    <tr>\n",
       "      <th>4</th>\n",
       "      <td>Greenwich Village and Soho</td>\n",
       "      <td>5334</td>\n",
       "    </tr>\n",
       "    <tr>\n",
       "      <th>5</th>\n",
       "      <td>Lower East Side</td>\n",
       "      <td>3856</td>\n",
       "    </tr>\n",
       "    <tr>\n",
       "      <th>6</th>\n",
       "      <td>Gramercy Park and Murray Hill</td>\n",
       "      <td>3634</td>\n",
       "    </tr>\n",
       "    <tr>\n",
       "      <th>7</th>\n",
       "      <td>Upper West Side</td>\n",
       "      <td>2956</td>\n",
       "    </tr>\n",
       "    <tr>\n",
       "      <th>8</th>\n",
       "      <td>Bushwick and Williamsburg</td>\n",
       "      <td>2792</td>\n",
       "    </tr>\n",
       "    <tr>\n",
       "      <th>9</th>\n",
       "      <td>Lower Manhattan</td>\n",
       "      <td>2757</td>\n",
       "    </tr>\n",
       "  </tbody>\n",
       "</table>\n",
       "</div>"
      ],
      "text/plain": [
       "                    neighborhood  count\n",
       "0            Chelsea and Clinton  12321\n",
       "1                     Greenpoint   6796\n",
       "2               Northwest Queens   6346\n",
       "3             Northwest Brooklyn   5504\n",
       "4     Greenwich Village and Soho   5334\n",
       "5                Lower East Side   3856\n",
       "6  Gramercy Park and Murray Hill   3634\n",
       "7                Upper West Side   2956\n",
       "8      Bushwick and Williamsburg   2792\n",
       "9                Lower Manhattan   2757"
      ]
     },
     "execution_count": 18,
     "metadata": {},
     "output_type": "execute_result"
    }
   ],
   "source": [
    "print(\"The top 10 most popular filming locations by neighborhood\")\n",
    "neighborhood = pd.DataFrame(df3.neighborhood.value_counts().reset_index())\n",
    "neighborhood.columns = ['neighborhood', 'count']\n",
    "neighborhood.head(10)"
   ]
  },
  {
   "cell_type": "code",
   "execution_count": 19,
   "metadata": {},
   "outputs": [
    {
     "data": {
      "image/png": "[encoded data removed]",
      "text/plain": [
       "<matplotlib.figure.Figure at 0x1a1e396d30>"
      ]
     },
     "metadata": {},
     "output_type": "display_data"
    }
   ],
   "source": [
    "plt.figure(figsize = (15,8))\n",
    "\n",
    "ax1 = sns.barplot(x=\"count\", y=\"neighborhood\", data=neighborhood.head(10), palette=\"Greens_d\")\n",
    "ax1.set_title(\"Number of Permits By Neighborhood\", fontsize=15)\n",
    "ax1.set_xlabel(\"Count\", fontsize=12)\n",
    "ax1.set_ylabel(\"Neighborhood\", fontsize=12)\n",
    "\n",
    "plt.show()"
   ]
  },
  {
   "cell_type": "markdown",
   "metadata": {},
   "source": [
    "Note that this is a significantly different finding from when we were analysing based on only zipcodes. The first geographic analysis by zipcode showed that the Greenpoint zipcode had the highest number of film permits. When aggregrating the zipcodes by neighborhoods, we see a different result. The Chelsea and Clinton area have almost twice the number of film permits issued for Greenpoint. This discrepancy could be due to the fact that zipcodes encompass different sizes of area. "
   ]
  },
  {
   "cell_type": "markdown",
   "metadata": {},
   "source": [
    "<h3>3.3 Categories of Film Permits by Neighborhood</h3>"
   ]
  },
  {
   "cell_type": "markdown",
   "metadata": {},
   "source": [
    "Now I want to see the composition of permit types given out by neighborhood. To start with, I'll check what the unique categories of film permits are."
   ]
  },
  {
   "cell_type": "code",
   "execution_count": 20,
   "metadata": {},
   "outputs": [
    {
     "name": "stdout",
     "output_type": "stream",
     "text": [
      "Types of Film Permits and Their Popularity\n"
     ]
    },
    {
     "data": {
      "text/html": [
       "<div>\n",
       "<style scoped>\n",
       "    .dataframe tbody tr th:only-of-type {\n",
       "        vertical-align: middle;\n",
       "    }\n",
       "\n",
       "    .dataframe tbody tr th {\n",
       "        vertical-align: top;\n",
       "    }\n",
       "\n",
       "    .dataframe thead th {\n",
       "        text-align: right;\n",
       "    }\n",
       "</style>\n",
       "<table border=\"1\" class=\"dataframe\">\n",
       "  <thead>\n",
       "    <tr style=\"text-align: right;\">\n",
       "      <th></th>\n",
       "      <th>category</th>\n",
       "      <th>count</th>\n",
       "    </tr>\n",
       "  </thead>\n",
       "  <tbody>\n",
       "    <tr>\n",
       "      <th>0</th>\n",
       "      <td>Television</td>\n",
       "      <td>36716</td>\n",
       "    </tr>\n",
       "    <tr>\n",
       "      <th>1</th>\n",
       "      <td>Film</td>\n",
       "      <td>12645</td>\n",
       "    </tr>\n",
       "    <tr>\n",
       "      <th>2</th>\n",
       "      <td>Commercial</td>\n",
       "      <td>6793</td>\n",
       "    </tr>\n",
       "    <tr>\n",
       "      <th>3</th>\n",
       "      <td>Theater</td>\n",
       "      <td>5221</td>\n",
       "    </tr>\n",
       "    <tr>\n",
       "      <th>4</th>\n",
       "      <td>Still Photography</td>\n",
       "      <td>5037</td>\n",
       "    </tr>\n",
       "    <tr>\n",
       "      <th>5</th>\n",
       "      <td>WEB</td>\n",
       "      <td>2199</td>\n",
       "    </tr>\n",
       "    <tr>\n",
       "      <th>6</th>\n",
       "      <td>Student</td>\n",
       "      <td>362</td>\n",
       "    </tr>\n",
       "    <tr>\n",
       "      <th>7</th>\n",
       "      <td>Documentary</td>\n",
       "      <td>257</td>\n",
       "    </tr>\n",
       "    <tr>\n",
       "      <th>8</th>\n",
       "      <td>Music Video</td>\n",
       "      <td>231</td>\n",
       "    </tr>\n",
       "    <tr>\n",
       "      <th>9</th>\n",
       "      <td>Red Carpet/Premiere</td>\n",
       "      <td>1</td>\n",
       "    </tr>\n",
       "  </tbody>\n",
       "</table>\n",
       "</div>"
      ],
      "text/plain": [
       "              category  count\n",
       "0           Television  36716\n",
       "1                 Film  12645\n",
       "2           Commercial   6793\n",
       "3              Theater   5221\n",
       "4    Still Photography   5037\n",
       "5                  WEB   2199\n",
       "6              Student    362\n",
       "7          Documentary    257\n",
       "8          Music Video    231\n",
       "9  Red Carpet/Premiere      1"
      ]
     },
     "execution_count": 20,
     "metadata": {},
     "output_type": "execute_result"
    }
   ],
   "source": [
    "print(\"Types of Film Permits and Their Popularity\")\n",
    "categories = pd.DataFrame(df3.category.value_counts().reset_index())\n",
    "categories.columns = ['category', 'count']\n",
    "categories.head(10)"
   ]
  },
  {
   "cell_type": "code",
   "execution_count": 21,
   "metadata": {},
   "outputs": [
    {
     "data": {
      "image/png": "[encoded data removed]",
      "text/plain": [
       "<matplotlib.figure.Figure at 0x1a1e3617b8>"
      ]
     },
     "metadata": {},
     "output_type": "display_data"
    }
   ],
   "source": [
    "plt.figure(figsize = (15,8))\n",
    "\n",
    "ax3 = sns.barplot(y=\"count\", x=\"category\", data=categories.head(10), palette=\"muted\")\n",
    "ax3.set_title(\"Type of Permits\", fontsize=15)\n",
    "ax3.set_xlabel(\"Count\", fontsize=12)\n",
    "ax3.set_ylabel(\"Category\", fontsize=12)\n",
    "\n",
    "plt.show()\n"
   ]
  },
  {
   "cell_type": "markdown",
   "metadata": {},
   "source": [
    "Television permits are the most popular permits, surpassing the number the film permits by nearly 3 times. There was an odd incident of a film permit being issued out for a red carpet premiere."
   ]
  },
  {
   "cell_type": "markdown",
   "metadata": {},
   "source": [
    "<h3>Top 6 Subcategories of Film Permits</h3>"
   ]
  },
  {
   "cell_type": "code",
   "execution_count": 22,
   "metadata": {},
   "outputs": [
    {
     "data": {
      "text/plain": [
       "Episodic series    14185\n",
       "Feature             6792\n",
       "Not Applicable      6423\n",
       "Cable-episodic      4997\n",
       "Theater             4345\n",
       "Commercial          3250\n",
       "Name: subcategory, dtype: int64"
      ]
     },
     "execution_count": 22,
     "metadata": {},
     "output_type": "execute_result"
    }
   ],
   "source": [
    "df.subcategory.unique() \n",
    "subcategories = df[\"subcategory\"].value_counts(dropna =False)\n",
    "subcategories.head(6)"
   ]
  },
  {
   "cell_type": "markdown",
   "metadata": {},
   "source": [
    "<h3>Conclusion</h3>\n",
    "<li>Manhattan was the most popular borough to film in.\n",
    "<li>Television filming activity made up 53.45% of all film permits.\n",
    "<li>October was the most popular month to film and January was the least popular month to film in.\n",
    "\n",
    "In further analyses, I would like to go into cross-analyzing the filming months with the boroughs to test out the hypothesis suggested by the correlation matrix. I would also like to look into the isolated events and match them to the news. "
   ]
  },
  {
   "cell_type": "code",
   "execution_count": 23,
   "metadata": {},
   "outputs": [],
   "source": [
    "df3.to_excel('filmpermits.xlsx', sheet_name='sheet1', index=False)"
   ]
  }
 ],
 "metadata": {
  "kernelspec": {
   "display_name": "Python 3",
   "language": "python",
   "name": "python3"
  },
  "language_info": {
   "codemirror_mode": {
    "name": "ipython",
    "version": 3
   },
   "file_extension": ".py",
   "mimetype": "text/x-python",
   "name": "python",
   "nbconvert_exporter": "python",
   "pygments_lexer": "ipython3",
   "version": "3.6.4"
  }
 },
 "nbformat": 4,
 "nbformat_minor": 2
}
